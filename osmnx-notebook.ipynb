{
 "cells": [
  {
   "cell_type": "markdown",
   "id": "a924dfc0-6a25-47cd-8853-846ce58841c9",
   "metadata": {},
   "source": [
    "# Introdução ao OSMnx"
   ]
  },
  {
   "cell_type": "markdown",
   "id": "6cc1821e-4b65-4c14-a164-17979a905765",
   "metadata": {},
   "source": [
    "**OSMnx** é um pacote em Python que facilita a manipulação de dados geoespaciais para análise das redes viárias, desenvolvido e mantido por [Geoff Boeing](https://geoffboeing.com/), professor de Planejamento Urbano e Análise Espacial da USC - University of Southern California.\n",
    "\n",
    "Construído sobre as bibliotecas **NetworkX**, usada para modelar redes viárias como grafos (nós e arestas) e **GeoPandas**, usada para manipulação de dados geoespaciais em formato de DataFrames,  utiliza APIs do **OpenStreetMap**,  base de dados geográficos colaborativa e de código aberto, para download de malhas viárias, extração de edifícios, limites administrativos e Pontos de Interesse, geração de mapas interativos e estáticos, simulação de rotas e cálculo de distâncias etc.\n",
    "   "
   ]
  },
  {
   "cell_type": "markdown",
   "id": "82b87a8c-1d66-4097-aed4-59d2b1dcf153",
   "metadata": {},
   "source": [
    "### Carregamos as bibliotecas"
   ]
  },
  {
   "cell_type": "code",
   "execution_count": 2,
   "id": "358686f7-1e1c-4009-ace1-5964696b5695",
   "metadata": {},
   "outputs": [],
   "source": [
    "import osmnx as ox\n",
    "import matplotlib.pyplot as plt\n",
    "import pandas as pd\n",
    "import geopandas as gpd\n",
    "import networkx as nx\n",
    "import warnings\n",
    "warnings.filterwarnings(\"ignore\") \n"
   ]
  },
  {
   "cell_type": "markdown",
   "id": "af4571aa-9207-4f8d-afe4-2452de85ea5d",
   "metadata": {},
   "source": [
    "### Verificamos a versão do pacote OSMnx"
   ]
  },
  {
   "cell_type": "code",
   "execution_count": 3,
   "id": "72b94151-3a40-4c75-b0ee-77a4f5b719a2",
   "metadata": {},
   "outputs": [
    {
     "data": {
      "text/plain": [
       "'2.0.3'"
      ]
     },
     "execution_count": 3,
     "metadata": {},
     "output_type": "execute_result"
    }
   ],
   "source": [
    "ox.__version__"
   ]
  },
  {
   "cell_type": "markdown",
   "id": "2c140d9b-e7f0-455e-953f-bf2a00e77ee2",
   "metadata": {},
   "source": [
    "### Definimos os locais para consulta"
   ]
  },
  {
   "cell_type": "code",
   "execution_count": null,
   "id": "432c91ee-2c97-45bb-98ec-3d867a3525f1",
   "metadata": {},
   "outputs": [],
   "source": [
    "places = {\n",
    "    'Juiz de Fora': 'Juiz de Fora, MG, Brasil',\n",
    "    'Uberlândia': 'Uberlândia, MG, Brasil',\n",
    "    'Campanha': 'Campanha, MG, Brasil',\n",
    "    'Rio Pomba': 'Rio Pomba, MG, Brasil',\n",
    "      \n",
    "}"
   ]
  },
  {
   "cell_type": "markdown",
   "id": "2dcc3650-4186-421e-8b7d-d78a4d5f4d70",
   "metadata": {},
   "source": [
    "### Geramos os diagramas"
   ]
  },
  {
   "cell_type": "code",
   "execution_count": null,
   "id": "5ef22970-b2a8-4a23-b0ea-96633afbd7b9",
   "metadata": {},
   "outputs": [],
   "source": [
    "# Criamos figuras e eixos\n",
    "n = len(places)\n",
    "ncols = int(np.ceil(np.sqrt(n)))\n",
    "nrows = int(np.ceil(n / ncols))\n",
    "figsize = (ncols * 5, nrows * 5)\n",
    "fig, axes = plt.subplots(nrows, ncols, figsize=figsize, subplot_kw={\"projection\": \"polar\"})\n",
    "\n",
    "# Criamos o diagrama de roseta de cada cidade\n",
    "for ax, place in zip(axes.flat, sorted(places.keys())):\n",
    "    print(ox.utils.ts(), place)\n",
    "\n",
    "    # obter grafos não direcionados com aestas contendo atributos\n",
    "    G = ox.graph.graph_from_place(place, network_type=\"drive\")\n",
    "    Gu = ox.bearing.add_edge_bearings(ox.convert.to_undirected(G))\n",
    "    fig, ax = ox.plot.plot_orientation(Gu, ax=ax, title=place, area=True)\n",
    "\n",
    "# Adicionamos títulos e salvamos o gráfico\n",
    "suptitle_font = {\n",
    "    \"family\": \"DejaVu Sans\",\n",
    "    \"fontsize\": 60,\n",
    "    \"fontweight\": \"normal\",\n",
    "    \"y\": 1,\n",
    "}\n",
    "fig.suptitle(\"Orientação viária de cidades mineiras\", **suptitle_font)\n",
    "fig.tight_layout()\n",
    "fig.subplots_adjust(hspace=0.35) \n",
    "fig.savefig(\"cidades_mineiras.png\", facecolor=\"w\", dpi=100, bbox_inches=\"tight\")\n",
    "plt.close()"
   ]
  },
  {
   "cell_type": "code",
   "execution_count": null,
   "id": "8722c2e4-24c6-4bcc-9fe2-c648fa238db1",
   "metadata": {},
   "outputs": [],
   "source": []
  }
 ],
 "metadata": {
  "kernelspec": {
   "display_name": "Python 3 (ipykernel)",
   "language": "python",
   "name": "python3"
  },
  "language_info": {
   "codemirror_mode": {
    "name": "ipython",
    "version": 3
   },
   "file_extension": ".py",
   "mimetype": "text/x-python",
   "name": "python",
   "nbconvert_exporter": "python",
   "pygments_lexer": "ipython3",
   "version": "3.12.3"
  }
 },
 "nbformat": 4,
 "nbformat_minor": 5
}
